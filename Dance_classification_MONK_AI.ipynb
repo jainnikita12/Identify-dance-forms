{
  "nbformat": 4,
  "nbformat_minor": 0,
  "metadata": {
    "colab": {
      "name": "Dance classification MONK AI.ipynb",
      "provenance": [],
      "collapsed_sections": []
    },
    "kernelspec": {
      "display_name": "Python 3",
      "name": "python3"
    }
  },
  "cells": [
    {
      "cell_type": "code",
      "metadata": {
        "colab": {
          "base_uri": "https://localhost:8080/"
        },
        "id": "4uZ9vLM9BHmz",
        "outputId": "e2912210-e567-4ab3-90e0-2375031b73be"
      },
      "source": [
        "!git clone https://github.com/Tessellate-Imaging/monk_v1.git"
      ],
      "execution_count": null,
      "outputs": [
        {
          "output_type": "stream",
          "text": [
            "fatal: destination path 'monk_v1' already exists and is not an empty directory.\n"
          ],
          "name": "stdout"
        }
      ]
    },
    {
      "cell_type": "code",
      "metadata": {
        "id": "00_mbRtkG8QA"
      },
      "source": [
        "import os\r\n",
        "import sys"
      ],
      "execution_count": null,
      "outputs": []
    },
    {
      "cell_type": "code",
      "metadata": {
        "id": "2KyAyVhFIQlW"
      },
      "source": [
        "!pip install gluoncv --upgrade"
      ],
      "execution_count": null,
      "outputs": []
    },
    {
      "cell_type": "code",
      "metadata": {
        "id": "OgK-loTZJF-H"
      },
      "source": [
        "sys.path.append(\"/kaggle/working/monk_v1/monk/\");\r\n"
      ],
      "execution_count": null,
      "outputs": []
    },
    {
      "cell_type": "code",
      "metadata": {
        "id": "Pq40Ntd9J2Xq"
      },
      "source": [
        "pip install -U monk-gluon-cuda100\r\n"
      ],
      "execution_count": null,
      "outputs": []
    },
    {
      "cell_type": "code",
      "metadata": {
        "colab": {
          "base_uri": "https://localhost:8080/"
        },
        "id": "kq8IVbhpHwr-",
        "outputId": "bdfc11b4-7362-4023-90ca-b5477d6cb170"
      },
      "source": [
        "from monk.gluon_prototype import prototype\r\n",
        "gtf = prototype(verbose=1);\r\n",
        "gtf.Prototype(\"Dance_Form\", \"Using-resnet152_v1\");"
      ],
      "execution_count": null,
      "outputs": [
        {
          "output_type": "stream",
          "text": [
            "Mxnet Version: 1.5.1\n",
            "\n",
            "Experiment Details\n",
            "    Project: Dance_Form\n",
            "    Experiment: Using-resnet152_v1\n",
            "    Dir: /content/workspace/Dance_Form/Using-resnet152_v1/\n",
            "\n"
          ],
          "name": "stdout"
        }
      ]
    },
    {
      "cell_type": "code",
      "metadata": {
        "id": "abruuJB-4Fx0"
      },
      "source": [
        "gtf.Default(dataset_path=\"/content/drive/MyDrive/Dance/train\", path_to_csv=\"/content/drive/MyDrive/Dance/train.csv\", model_name=\"resnet152_v1\", freeze_base_network= False, num_epochs=5);\r\n",
        "gtf.Train();"
      ],
      "execution_count": null,
      "outputs": []
    },
    {
      "cell_type": "code",
      "metadata": {
        "id": "axFCA69mK7FJ"
      },
      "source": [
        "gtf = prototype(verbose=1);\r\n",
        "gtf.Prototype(\"Dance_Form\", \"Using-resnet152_v1\");\r\n",
        "gtf.Default(dataset_path=\"/content/drive/MyDrive/Dance/\", \r\n",
        "            model_name=\"resnet152_v1\", \r\n",
        "            freeze_base_network=False,\r\n",
        "            num_epochs=10);\r\n",
        "\r\n",
        "gtf.Train();"
      ],
      "execution_count": null,
      "outputs": []
    },
    {
      "cell_type": "code",
      "metadata": {
        "colab": {
          "base_uri": "https://localhost:8080/"
        },
        "id": "CGtTwNo3LCQX",
        "outputId": "188e8b0b-0660-4f78-e8cf-173bb5c82d4f"
      },
      "source": [
        "from google.colab import drive\n",
        "drive.mount('/content/drive')"
      ],
      "execution_count": 1,
      "outputs": [
        {
          "output_type": "stream",
          "text": [
            "Drive already mounted at /content/drive; to attempt to forcibly remount, call drive.mount(\"/content/drive\", force_remount=True).\n"
          ],
          "name": "stdout"
        }
      ]
    },
    {
      "cell_type": "code",
      "metadata": {
        "colab": {
          "base_uri": "https://localhost:8080/"
        },
        "id": "OLRAbI0hgD0R",
        "outputId": "e761ae0c-d0c8-4207-f854-57e758329fe8"
      },
      "source": [
        "from imgaug import augmenters as iaa\r\n",
        "import imgaug as ia\r\n",
        "import imageio\r\n",
        "seq=iaa.Sequential([\r\n",
        "        iaa.Scale((224, 224)),\r\n",
        "        iaa.Sometimes(0.25, iaa.GaussianBlur(sigma=(0, 3.0))),\r\n",
        "        iaa.Fliplr(0.5),\r\n",
        "        iaa.Sharpen(alpha=(0, 1.0), lightness=(0.75, 1.5)),\r\n",
        "        iaa.Affine(rotate=(-20, 20), mode='symmetric'),\r\n",
        "        iaa.Sometimes(0.25,\r\n",
        "                      iaa.OneOf([iaa.Dropout(p=(0, 0.1)),\r\n",
        "                                 iaa.CoarseDropout(0.1,                                                                 size_percent=0.5)])),\r\n",
        "        iaa.AddToHueAndSaturation(value=(-10, 10), per_channel=True)\r\n",
        "    ])"
      ],
      "execution_count": null,
      "outputs": [
        {
          "output_type": "stream",
          "text": [
            "/usr/local/lib/python3.6/dist-packages/ipykernel_launcher.py:5: DeprecationWarning: Function `Scale()` is deprecated. Use `Resize` instead. Resize has the exactly same interface as Scale.\n",
            "  \"\"\"\n"
          ],
          "name": "stderr"
        }
      ]
    },
    {
      "cell_type": "code",
      "metadata": {
        "id": "ynn-OtdXhPHx"
      },
      "source": [
        "path = (\"/content/drive/MyDrive/Dance\")"
      ],
      "execution_count": null,
      "outputs": []
    },
    {
      "cell_type": "code",
      "metadata": {
        "id": "XhDQwVG1PQth"
      },
      "source": [
        "path_1 = (\"/content/drive/MyDrive/Dance/train\")"
      ],
      "execution_count": null,
      "outputs": []
    },
    {
      "cell_type": "code",
      "metadata": {
        "id": "HMP1MFsnhaKL"
      },
      "source": [
        "import os\r\n",
        "import sys"
      ],
      "execution_count": 3,
      "outputs": []
    },
    {
      "cell_type": "code",
      "metadata": {
        "colab": {
          "base_uri": "https://localhost:8080/"
        },
        "id": "uc7jrm45gtei",
        "outputId": "0b820874-17bf-443f-aa63-66d2f8a9aa99"
      },
      "source": [
        "for folder in os.listdir(path_1):\r\n",
        "  print (folder)"
      ],
      "execution_count": null,
      "outputs": [
        {
          "output_type": "stream",
          "text": [
            "1.jpg\n"
          ],
          "name": "stdout"
        }
      ]
    },
    {
      "cell_type": "code",
      "metadata": {
        "id": "5kynWIrkgHOe"
      },
      "source": [
        "for folder in os.listdir(path_1):\r\n",
        "  i = 0\r\n",
        "  img = imageio.imread(path_1 + '/' + folder)\r\n",
        "  img_aug = seq.augment_image(img)\r\n",
        "  imageio.imwrite(os.path.join(path_1, path_1 + '/' + folder + '/' + folder + \"%06d.jpg\" % (i,)), img_aug)\r\n",
        "  i += 1"
      ],
      "execution_count": null,
      "outputs": []
    },
    {
      "cell_type": "code",
      "metadata": {
        "id": "eSaNAOfFCzWm"
      },
      "source": [
        "import glob\r\n",
        "import matplotlib.pyplot as plt\r\n",
        "from PIL import Image"
      ],
      "execution_count": null,
      "outputs": []
    },
    {
      "cell_type": "code",
      "metadata": {
        "id": "327PMJzLPjPB"
      },
      "source": [
        "i = 0\r\n",
        "for folder in os.listdir(path_1):\r\n",
        "       \r\n",
        "        img = imageio.imread(path_1 + '/' + folder)\r\n",
        "        img_aug= seq.augment_image(img)\r\n",
        "        imageio.imwrite(os.path.join( path_1 + '/' + folder + \"_new.jpg\"), img_aug)\r\n",
        "        print (path_1 + '/' + folder + \"_new.jpg\")\r\n",
        "        \r\n"
      ],
      "execution_count": null,
      "outputs": []
    },
    {
      "cell_type": "code",
      "metadata": {
        "id": "m9v0hAHviuDr"
      },
      "source": [
        "list = []\r\n",
        "for folder in os.listdir(path_1):\r\n",
        "  list. append(folder)\r\n",
        "\r\n",
        "  "
      ],
      "execution_count": null,
      "outputs": []
    },
    {
      "cell_type": "code",
      "metadata": {
        "colab": {
          "base_uri": "https://localhost:8080/"
        },
        "id": "2se1uG0JMvO_",
        "outputId": "bb6cc5a4-f341-4853-f3f7-b4a615a2650b"
      },
      "source": [
        "print(len(\"/content/drive/MyDrive/Dance/train\"))"
      ],
      "execution_count": null,
      "outputs": [
        {
          "output_type": "stream",
          "text": [
            "34\n"
          ],
          "name": "stdout"
        }
      ]
    },
    {
      "cell_type": "code",
      "metadata": {
        "colab": {
          "background_save": true
        },
        "id": "nG95pJQ2s3rr"
      },
      "source": [
        "gtf.Default(dataset_path=\"/content/drive/MyDrive/Dance/train\", path_to_csv=\"/content/drive/MyDrive/Dance/train_1.csv\", model_name=\"resnet152_v1\", freeze_base_network= False, num_epochs=10);\r\n",
        "gtf.Train();"
      ],
      "execution_count": null,
      "outputs": []
    },
    {
      "cell_type": "code",
      "metadata": {
        "id": "VqTHcmwGqERg"
      },
      "source": [
        "list_test=os.listdir(\"/content/drive/MyDrive/Dance/test\");\r\n",
        "from tqdm.notebook import tqdm\r\n",
        "combined = [];"
      ],
      "execution_count": 4,
      "outputs": []
    },
    {
      "cell_type": "code",
      "metadata": {
        "id": "pQS0PUcAqYsB"
      },
      "source": [
        "for i in tqdm(range(len(list_test))):\r\n",
        "    img_name = \"/content/drive/MyDrive/Dance/test\" + list_test[i];\r\n",
        "    predictions = gtf.Infer(img_name=img_name);\r\n",
        "    id_ = list_test[i]\r\n",
        "    label = predictions[\"predicted_class\"];    \r\n",
        "    combined.append([id_, label]);"
      ],
      "execution_count": null,
      "outputs": []
    },
    {
      "cell_type": "code",
      "metadata": {
        "id": "TBbNU6XEq3m6"
      },
      "source": [
        "a = pd.DataFrame(combined, columns = ['Image', 'target']);\r\n",
        "a.to_csv(\"submission.csv\", index=False)"
      ],
      "execution_count": null,
      "outputs": []
    }
  ]
}